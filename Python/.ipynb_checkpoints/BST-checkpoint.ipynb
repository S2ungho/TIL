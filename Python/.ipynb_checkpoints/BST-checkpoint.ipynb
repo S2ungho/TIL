{
 "cells": [
  {
   "cell_type": "code",
   "execution_count": 2,
   "id": "f1fcffd2",
   "metadata": {},
   "outputs": [],
   "source": [
    "class TreeNode():\n",
    "    def __init__(self):\n",
    "        self.data=None\n",
    "        self.left=None\n",
    "        self.right=None"
   ]
  },
  {
   "cell_type": "code",
   "execution_count": 3,
   "id": "b43df7f2",
   "metadata": {},
   "outputs": [
    {
     "name": "stdout",
     "output_type": "stream",
     "text": [
      "first \n",
      "second third \n",
      "four five six "
     ]
    }
   ],
   "source": [
    "node1 = TreeNode()\n",
    "node1.data = \"first\"\n",
    " \n",
    "node2 = TreeNode()\n",
    "node2.data = \"second\"\n",
    "node1.left = node2\n",
    "\n",
    "node3 = TreeNode()\n",
    "node3.data = \"third\"\n",
    "node1.right = node3\n",
    "\n",
    "node4 = TreeNode()\n",
    "node4.data = \"four\"\n",
    "node2.left = node4\n",
    "\n",
    "node5 = TreeNode()\n",
    "node5.data = \"five\"\n",
    "node2.right = node5\n",
    "\n",
    "node6 = TreeNode()\n",
    "node6.data = \"six\"\n",
    "node3.left = node6\n",
    "\n",
    "print(node1.data, end=' ')\n",
    "print()\n",
    "print(node1.left.data, node1.right.data, end=' ')\n",
    "print()\n",
    "print(node1.left.left.data, node1.left.right.data, node1.right.left.data, end = ' ')"
   ]
  },
  {
   "cell_type": "code",
   "execution_count": 4,
   "id": "9e47b5ab",
   "metadata": {},
   "outputs": [
    {
     "name": "stdout",
     "output_type": "stream",
     "text": [
      "전위 순회 first->second->four->five->third->six->end\n",
      "중위 순회 four->second->five->first->six->third->end\n",
      "후위 순회 four->five->second->six->third->first->end\n"
     ]
    }
   ],
   "source": [
    "def preorder(node):\n",
    "    if node==None:\n",
    "        return\n",
    "    print(node.data,end='->')\n",
    "    preorder(node.left)\n",
    "    preorder(node.right)\n",
    "    \n",
    "def inorder(node):\n",
    "    if node==None:\n",
    "        return\n",
    "    inorder(node.left)\n",
    "    print(node.data,end='->')\n",
    "    inorder(node.right)\n",
    "    \n",
    "def postorder(node):\n",
    "    if node==None:\n",
    "        return\n",
    "    postorder(node.left)\n",
    "    postorder(node.right)\n",
    "    print(node.data,end='->')\n",
    "    \n",
    "print('전위 순회', end = ' ')\n",
    "preorder(node1)\n",
    "print(\"end\")\n",
    "\n",
    "print('중위 순회', end = ' ')\n",
    "inorder(node1)\n",
    "print(\"end\")\n",
    "\n",
    "print('후위 순회', end = ' ')\n",
    "postorder(node1)\n",
    "print(\"end\")"
   ]
  },
  {
   "cell_type": "code",
   "execution_count": 5,
   "id": "b76d9a27",
   "metadata": {},
   "outputs": [
    {
     "ename": "NameError",
     "evalue": "name 'memory' is not defined",
     "output_type": "error",
     "traceback": [
      "\u001b[0;31m---------------------------------------------------------------------------\u001b[0m",
      "\u001b[0;31mNameError\u001b[0m                                 Traceback (most recent call last)",
      "Input \u001b[0;32mIn [5]\u001b[0m, in \u001b[0;36m<cell line: 8>\u001b[0;34m()\u001b[0m\n\u001b[1;32m     21\u001b[0m                 \u001b[38;5;28;01mbreak\u001b[39;00m\n\u001b[1;32m     22\u001b[0m             current\u001b[38;5;241m=\u001b[39mcurrent\u001b[38;5;241m.\u001b[39mright\n\u001b[0;32m---> 23\u001b[0m         \u001b[43mmemory\u001b[49m\u001b[38;5;241m.\u001b[39mappend(node)\n\u001b[1;32m     24\u001b[0m \u001b[38;5;28mprint\u001b[39m(\u001b[38;5;124m\"\u001b[39m\u001b[38;5;124m이진 탐색 트리 구성 완료\u001b[39m\u001b[38;5;124m\"\u001b[39m)\n",
      "\u001b[0;31mNameError\u001b[0m: name 'memory' is not defined"
     ]
    }
   ],
   "source": [
    "#memory=[]\n",
    "root=None\n",
    "nameAry=['블랙핑크','레드벨벳','마마무','에이핑크','걸스데이','트와이스']\n",
    "node=TreeNode()\n",
    "node.data=nameAry[0]\n",
    "root=node\n",
    "#memory.append(node)\n",
    "for name in nameAry[1:]:\n",
    "    node=TreeNode()\n",
    "    node.data=name\n",
    "    current=root\n",
    "    while True:\n",
    "        if current.data>node.data:\n",
    "            if current.left==None:\n",
    "                current.left=node\n",
    "                break\n",
    "            current=current.left\n",
    "        if current.data<node.data:\n",
    "            if current.right==None:\n",
    "                current.right=node\n",
    "                break\n",
    "            current=current.right\n",
    "        memory.append(node)\n",
    "print(\"이진 탐색 트리 구성 완료\")"
   ]
  },
  {
   "cell_type": "code",
   "execution_count": 6,
   "id": "73ba87ac",
   "metadata": {},
   "outputs": [
    {
     "ename": "SyntaxError",
     "evalue": "invalid syntax (3200882268.py, line 5)",
     "output_type": "error",
     "traceback": [
      "\u001b[0;36m  Input \u001b[0;32mIn [6]\u001b[0;36m\u001b[0m\n\u001b[0;31m    for name in range DataArray[1:]:\u001b[0m\n\u001b[0m                      ^\u001b[0m\n\u001b[0;31mSyntaxError\u001b[0m\u001b[0;31m:\u001b[0m invalid syntax\n"
     ]
    }
   ],
   "source": [
    "node = TreeNode()\n",
    "root = node\n",
    "node.data = dataArray[0]\n",
    "\n",
    "for name in range DataArray[1:]:\n",
    "    node = TreeNode()\n",
    "    node.data = name\n",
    "    current = root\n",
    "    while True:\n",
    "        if current.data > node.data:\n",
    "            if current.left == None:\n",
    "                current.left = node\n",
    "                break\n",
    "            current = current.left\n",
    "        if current.data < node.data:\n",
    "            if current.right == None:\n",
    "                current.right = node\n",
    "                break\n",
    "            current = current.right\n",
    "        "
   ]
  },
  {
   "cell_type": "code",
   "execution_count": 7,
   "id": "08386427",
   "metadata": {},
   "outputs": [
    {
     "name": "stdout",
     "output_type": "stream",
     "text": [
      "블랙핑크->레드벨벳->마마무->에이핑크->"
     ]
    }
   ],
   "source": [
    "preorder(root)"
   ]
  },
  {
   "cell_type": "code",
   "execution_count": 8,
   "id": "af972b94",
   "metadata": {},
   "outputs": [
    {
     "name": "stdout",
     "output_type": "stream",
     "text": [
      "레드벨벳->마마무->블랙핑크->에이핑크->"
     ]
    }
   ],
   "source": [
    "inorder(root)"
   ]
  },
  {
   "cell_type": "code",
   "execution_count": 9,
   "id": "24b04ca0",
   "metadata": {},
   "outputs": [
    {
     "name": "stdout",
     "output_type": "stream",
     "text": [
      "마마무->레드벨벳->에이핑크->블랙핑크->"
     ]
    }
   ],
   "source": [
    "postorder(root)"
   ]
  },
  {
   "cell_type": "code",
   "execution_count": 10,
   "id": "17601da8",
   "metadata": {},
   "outputs": [
    {
     "name": "stdout",
     "output_type": "stream",
     "text": [
      "마마무 을 찾음.\n"
     ]
    }
   ],
   "source": [
    "findName='마마무'\n",
    "current=root\n",
    "while True:\n",
    "    if findName==current.data:\n",
    "        print(findName,\"을 찾음.\")\n",
    "        break\n",
    "    elif findName<current.data:\n",
    "        if current.left==None:\n",
    "            print(findName,\"이 트리에 없음.\")\n",
    "            break\n",
    "        current=current.left\n",
    "    else:\n",
    "        if current.right==None:\n",
    "            print(findName,\"이 트리에 없음.\")\n",
    "            break\n",
    "        current=current.right"
   ]
  },
  {
   "cell_type": "code",
   "execution_count": 11,
   "id": "bd14a123",
   "metadata": {},
   "outputs": [
    {
     "name": "stdout",
     "output_type": "stream",
     "text": [
      "마마무 이 삭제됨.\n"
     ]
    }
   ],
   "source": [
    "deleteName=\"마마무\"\n",
    "current=root\n",
    "parent=None\n",
    "while True:\n",
    "    if deleteName==current.data:\n",
    "        if parent==None:\n",
    "            if current.left==None and current.right==None: \n",
    "                del(current)\n",
    "            elif current.left!=None and current.right==None:\n",
    "                root=current.left\n",
    "                del(current)\n",
    "            elif current.left==None and current.right!=None:\n",
    "                root=current.right\n",
    "                del(current)\n",
    "            else:\n",
    "                find=current.left\n",
    "                while find.right!=None:\n",
    "                    find=find.right\n",
    "                current.data=find.data\n",
    "                del(find)\n",
    "            break\n",
    "        else:  \n",
    "            if current.left==None and current.right==None: \n",
    "                del(current)\n",
    "            elif current.left!=None and current.right==None:\n",
    "                if parent.left==current:\n",
    "                    parent.left=current.left\n",
    "                else:\n",
    "                    parent.right=current.left\n",
    "                del(current)\n",
    "            elif current.left==None and current.right!=None:\n",
    "                if parent.left==current:\n",
    "                    parent.left=current.right\n",
    "                else:\n",
    "                    parent.right=current.right\n",
    "                del(current)\n",
    "            else:\n",
    "                find=current.left\n",
    "                while find.right!=None:\n",
    "                    find=find.right\n",
    "                current.data=find.data\n",
    "                del(find)\n",
    "            print(deleteName,\"이 삭제됨.\")\n",
    "            break\n",
    "    elif deleteName<current.data:\n",
    "        if current.left==None:\n",
    "            print(deleteName,\"이 트리에 없음.\")\n",
    "            break\n",
    "        parent=current\n",
    "        current=current.left\n",
    "    elif deleteName>current.data:\n",
    "        if current.right==None:\n",
    "            print(deleteName,\"이 트리에 없음.\")\n",
    "            break\n",
    "        parent=current\n",
    "        current=current.right"
   ]
  },
  {
   "cell_type": "code",
   "execution_count": null,
   "id": "8cf36e91",
   "metadata": {},
   "outputs": [],
   "source": []
  },
  {
   "cell_type": "code",
   "execution_count": null,
   "id": "10391ec7",
   "metadata": {},
   "outputs": [],
   "source": [
    "class TreeNode():\n",
    "    def __init__(self):\n",
    "        self.data = None\n",
    "        self.left = None\n",
    "        self.right = None"
   ]
  },
  {
   "cell_type": "code",
   "execution_count": null,
   "id": "a444e88a",
   "metadata": {},
   "outputs": [],
   "source": [
    "def preOrder(node):\n",
    "    if node == None:\n",
    "        return\n",
    "    print(node.data)\n",
    "    preOrder(node.left)\n",
    "    preOrder(node.right)\n",
    "\n",
    "def inOrder(node):\n",
    "    if node == None:\n",
    "        return\n",
    "    inOrder(node.left)\n",
    "    print(node.data)\n",
    "    inOrder(node.right)\n",
    "    \n",
    "def postOrder(node):\n",
    "    if node == None:\n",
    "        return\n",
    "    postOrder(node.left)\n",
    "    postOrder(node.right)\n",
    "    print(node.data)\n",
    "    "
   ]
  },
  {
   "cell_type": "code",
   "execution_count": null,
   "id": "a5fc1cfd",
   "metadata": {},
   "outputs": [],
   "source": [
    "dataAry = [\"1\",\"2\",\"3\",\"4\",\"5\"]\n",
    "node = TreeNode()\n",
    "node.data = dataAry[0]\n",
    "root = node\n",
    "for name in dataAry[1:]:\n",
    "    node = TreeNode()\n",
    "    node.data = name\n",
    "    current = root\n",
    "    while True:\n",
    "        if current.data > node.data:\n",
    "            if current.left == None:\n",
    "                current.left = node\n",
    "                break\n",
    "            current = current.left\n",
    "            elif ccurrent.data < node.data:\n",
    "                if current.right == None:\n",
    "                    current.right = node\n",
    "                    break\n",
    "                current = current.right\n",
    "    \n"
   ]
  },
  {
   "cell_type": "code",
   "execution_count": null,
   "id": "6a0eec61",
   "metadata": {},
   "outputs": [],
   "source": [
    "findData = \"3\"\n",
    "current = root\n",
    "\n",
    "while True:\n",
    "    if findData == current.data:\n",
    "        print(\"here\")\n",
    "        break\n",
    "    elif findData < current.data:\n",
    "        if current.left == None:\n",
    "            print(\"x\")\n",
    "            break\n",
    "        current = current.left\n",
    "    elif findData > current.data:\n",
    "        if current.right == None:\n",
    "            print(\"x\")\n",
    "            break\n",
    "        current = current.right"
   ]
  },
  {
   "cell_type": "code",
   "execution_count": null,
   "id": "94c6e832",
   "metadata": {},
   "outputs": [],
   "source": [
    "deleteData = \"3\"\n",
    "current = root\n",
    "parent = None\n",
    "\n",
    "while True:\n",
    "    if deleteData == current.data:\n",
    "        if parent == None:\n",
    "            if current.left == None and current.right == None:\n",
    "                del(current)\n",
    "            elif current.left != None and current.right == None:\n",
    "                root = current.left\n",
    "                del(current)\n",
    "            elif current.left == None and current.right != None:\n",
    "                root = current.right\n",
    "                del(current)\n",
    "            else:\n",
    "                find = current.left\n",
    "                while find.right != None:\n",
    "                    find = find.right\n",
    "                current.data = find.data\n",
    "                del(find)\n",
    "            break\n",
    "        else:\n",
    "            if current.left == None and current.right == None:\n",
    "                del(current)\n",
    "            elif current.left != None and current.right == None:\n",
    "                if parent == current.left:\n",
    "                    parent.left = current.left\n",
    "                else:\n",
    "                    parent.right = current.left\n",
    "                del(current)#빼먹지말기\n",
    "            elif current.left == None and current.right != None:\n",
    "                if parent == current.right:\n",
    "                    parent.left = current.right\n",
    "                else:\n",
    "                    parent.right = current.right\n",
    "                del(current) #빼먹지말기\n",
    "            else:\n",
    "                find = current.left\n",
    "                while find.right != None:\n",
    "                    find = find.right\n",
    "                current.data = find.data\n",
    "                del(find)\n",
    "            break\n",
    "    elif deleteData < current.data:\n",
    "        if current.left == None:\n",
    "            print(\"x\")\n",
    "            break\n",
    "        parent = current\n",
    "        current = current.left\n",
    "    elif deleteData > current.data:\n",
    "        if current.right == None:\n",
    "            print(\"x\")\n",
    "            break\n",
    "        parent = current\n",
    "        current = current.right\n",
    "            "
   ]
  }
 ],
 "metadata": {
  "kernelspec": {
   "display_name": "Python 3 (ipykernel)",
   "language": "python",
   "name": "python3"
  },
  "language_info": {
   "codemirror_mode": {
    "name": "ipython",
    "version": 3
   },
   "file_extension": ".py",
   "mimetype": "text/x-python",
   "name": "python",
   "nbconvert_exporter": "python",
   "pygments_lexer": "ipython3",
   "version": "3.9.12"
  },
  "vscode": {
   "interpreter": {
    "hash": "aee8b7b246df8f9039afb4144a1f6fd8d2ca17a180786b69acc140d282b71a49"
   }
  }
 },
 "nbformat": 4,
 "nbformat_minor": 5
}
