{
 "cells": [
  {
   "cell_type": "code",
   "execution_count": 2,
   "id": "35746188",
   "metadata": {},
   "outputs": [],
   "source": [
    "class TreeNode():\n",
    "    def __init__(self):\n",
    "        self.left = None\n",
    "        self.data = None\n",
    "        self.right = None"
   ]
  },
  {
   "cell_type": "code",
   "execution_count": 5,
   "id": "61150a83",
   "metadata": {},
   "outputs": [
    {
     "name": "stdout",
     "output_type": "stream",
     "text": [
      "first \n",
      "second third \n",
      "four five six "
     ]
    }
   ],
   "source": [
    "node1 = TreeNode()\n",
    "node1.data = \"first\"\n",
    " \n",
    "node2 = TreeNode()\n",
    "node2.data = \"second\"\n",
    "node1.left = node2\n",
    "\n",
    "node3 = TreeNode()\n",
    "node3.data = \"third\"\n",
    "node1.right = node3\n",
    "\n",
    "node4 = TreeNode()\n",
    "node4.data = \"four\"\n",
    "node2.left = node4\n",
    "\n",
    "node5 = TreeNode()\n",
    "node5.data = \"five\"\n",
    "node2.right = node5\n",
    "\n",
    "node6 = TreeNode()\n",
    "node6.data = \"six\"\n",
    "node3.left = node6\n",
    "\n",
    "print(node1.data, end=' ')\n",
    "print()\n",
    "print(node1.left.data, node1.right.data, end=' ')\n",
    "print()\n",
    "print(node1.left.left.data, node1.left.right.data, node1.right.left.data, end = ' ')"
   ]
  },
  {
   "cell_type": "code",
   "execution_count": 8,
   "id": "dea1d626",
   "metadata": {},
   "outputs": [
    {
     "name": "stdout",
     "output_type": "stream",
     "text": [
      "전위 순회 first->second->four->five->third->six->end\n",
      "중위 순회 four->second->five->first->six->third->end\n",
      "후위 순회 four->five->second->six->third->first->end\n"
     ]
    }
   ],
   "source": [
    "def preorder(node):\n",
    "    if node==None:\n",
    "        return\n",
    "    print(node.data,end='->')\n",
    "    preorder(node.left)\n",
    "    preorder(node.right)\n",
    "    \n",
    "def inorder(node):\n",
    "    if node==None:\n",
    "        return\n",
    "    inorder(node.left)\n",
    "    print(node.data,end='->')\n",
    "    inorder(node.right)\n",
    "    \n",
    "def postorder(node):\n",
    "    if node==None:\n",
    "        return\n",
    "    postorder(node.left)\n",
    "    postorder(node.right)\n",
    "    print(node.data,end='->')\n",
    "    \n",
    "print('전위 순회', end = ' ')\n",
    "preorder(node1)\n",
    "print(\"end\")\n",
    "\n",
    "print('중위 순회', end = ' ')\n",
    "inorder(node1)\n",
    "print(\"end\")\n",
    "\n",
    "print('후위 순회', end = ' ')\n",
    "postorder(node1)\n",
    "print(\"end\")"
   ]
  },
  {
   "cell_type": "code",
   "execution_count": 40,
   "id": "56aa9506",
   "metadata": {},
   "outputs": [],
   "source": [
    "root = None\n",
    "nameAry = ['45','23','53','87','21','13']\n",
    "node = TreeNode()\n",
    "node.data = nameAry[0]\n",
    "root = node\n",
    "# memory.append(node)\n",
    "for name in nameAry[1:]:\n",
    "    node = TreeNode()\n",
    "    node.data = name\n",
    "    current = root\n",
    "    while True:\n",
    "        if current.data > node.data:\n",
    "            if current.left == None:\n",
    "                current.left = node\n",
    "                break\n",
    "            current = current.left\n",
    "        if current.data < node.data:\n",
    "            if current.right == None:\n",
    "                current.right = node\n",
    "                break\n",
    "            current = current.right\n",
    "# 이진 탐색 트리의 검색 작동 (배열)"
   ]
  },
  {
   "cell_type": "code",
   "execution_count": 41,
   "id": "c4a6d536",
   "metadata": {},
   "outputs": [
    {
     "name": "stdout",
     "output_type": "stream",
     "text": [
      "13  find.\n"
     ]
    }
   ],
   "source": [
    "findName = '13'\n",
    "\n",
    "current = root\n",
    "while True:\n",
    "    if findName == current.data:\n",
    "        print(findName, ' find.')\n",
    "        break\n",
    "    elif findName < current.data:\n",
    "        if current.left == None:\n",
    "            print(findName, ': None data.1')\n",
    "            break\n",
    "        current = current.left\n",
    "    else:\n",
    "        if current.right == None:\n",
    "            print(findName, ': None data.2')\n",
    "            break\n",
    "        current = current.right"
   ]
  },
  {
   "cell_type": "code",
   "execution_count": 35,
   "id": "439006e6",
   "metadata": {},
   "outputs": [
    {
     "name": "stdout",
     "output_type": "stream",
     "text": [
      "13 : delete.\n"
     ]
    }
   ],
   "source": [
    "deleteName = '13'\n",
    "\n",
    "current = root\n",
    "parent = None\n",
    "while True:\n",
    "    if deleteName == current.data:\n",
    "        if current.left == None and current.right == None:\n",
    "            if parent.left == current:\n",
    "                parent.left = None\n",
    "            else:\n",
    "                parent.right = None\n",
    "            del(current)\n",
    "            \n",
    "        elif current.left != None and current.right == None:\n",
    "            if parent.left == current:\n",
    "                parent.left = None\n",
    "            else:\n",
    "                parent.right = None\n",
    "            del(current)\n",
    "        \n",
    "        elif current.left == None and current.right != None:\n",
    "            if parent.left == current:\n",
    "                parent.left = current.right\n",
    "            else:\n",
    "                parent.right = current.right\n",
    "            del(current)\n",
    "            \n",
    "        print(deleteName, ': delete.')\n",
    "        break\n",
    "    elif deleteName < current.data:\n",
    "        if current.left == None:\n",
    "            print(deleteName, ': not find')\n",
    "            break\n",
    "        parent = current\n",
    "        current = current.left\n",
    "    else:\n",
    "        if current.right == None:\n",
    "            print(deleteName, ': not find')\n",
    "            break\n",
    "        parent = current\n",
    "        current = current.right"
   ]
  }
 ],
 "metadata": {
  "kernelspec": {
   "display_name": "Python 3 (ipykernel)",
   "language": "python",
   "name": "python3"
  },
  "language_info": {
   "codemirror_mode": {
    "name": "ipython",
    "version": 3
   },
   "file_extension": ".py",
   "mimetype": "text/x-python",
   "name": "python",
   "nbconvert_exporter": "python",
   "pygments_lexer": "ipython3",
   "version": "3.9.12"
  }
 },
 "nbformat": 4,
 "nbformat_minor": 5
}
